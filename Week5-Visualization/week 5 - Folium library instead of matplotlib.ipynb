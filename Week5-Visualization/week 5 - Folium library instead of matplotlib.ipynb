{
 "cells": [
  {
   "cell_type": "markdown",
   "metadata": {},
   "source": [
    "# Week 5 - Folium library instead of matplotlib"
   ]
  },
  {
   "cell_type": "code",
   "execution_count": 1,
   "metadata": {
    "collapsed": true
   },
   "outputs": [],
   "source": [
    "import folium\n",
    "import pandas as pd"
   ]
  },
  {
   "cell_type": "code",
   "execution_count": 2,
   "metadata": {
    "collapsed": true
   },
   "outputs": [],
   "source": [
    "country_json_geo = 'world-countries.json'"
   ]
  },
  {
   "cell_type": "code",
   "execution_count": 3,
   "metadata": {
    "collapsed": false
   },
   "outputs": [],
   "source": [
    "data = pd.read_csv(\"Indicators.csv\")"
   ]
  },
  {
   "cell_type": "code",
   "execution_count": 4,
   "metadata": {
    "collapsed": false
   },
   "outputs": [
    {
     "data": {
      "text/plain": [
       "(5656458, 6)"
      ]
     },
     "execution_count": 4,
     "metadata": {},
     "output_type": "execute_result"
    }
   ],
   "source": [
    "data.shape"
   ]
  },
  {
   "cell_type": "code",
   "execution_count": 5,
   "metadata": {
    "collapsed": false
   },
   "outputs": [
    {
     "data": {
      "text/html": [
       "<div>\n",
       "<table border=\"1\" class=\"dataframe\">\n",
       "  <thead>\n",
       "    <tr style=\"text-align: right;\">\n",
       "      <th></th>\n",
       "      <th>CountryName</th>\n",
       "      <th>CountryCode</th>\n",
       "      <th>IndicatorName</th>\n",
       "      <th>IndicatorCode</th>\n",
       "      <th>Year</th>\n",
       "      <th>Value</th>\n",
       "    </tr>\n",
       "  </thead>\n",
       "  <tbody>\n",
       "    <tr>\n",
       "      <th>0</th>\n",
       "      <td>Arab World</td>\n",
       "      <td>ARB</td>\n",
       "      <td>Adolescent fertility rate (births per 1,000 wo...</td>\n",
       "      <td>SP.ADO.TFRT</td>\n",
       "      <td>1960</td>\n",
       "      <td>1.335609e+02</td>\n",
       "    </tr>\n",
       "    <tr>\n",
       "      <th>1</th>\n",
       "      <td>Arab World</td>\n",
       "      <td>ARB</td>\n",
       "      <td>Age dependency ratio (% of working-age populat...</td>\n",
       "      <td>SP.POP.DPND</td>\n",
       "      <td>1960</td>\n",
       "      <td>8.779760e+01</td>\n",
       "    </tr>\n",
       "    <tr>\n",
       "      <th>2</th>\n",
       "      <td>Arab World</td>\n",
       "      <td>ARB</td>\n",
       "      <td>Age dependency ratio, old (% of working-age po...</td>\n",
       "      <td>SP.POP.DPND.OL</td>\n",
       "      <td>1960</td>\n",
       "      <td>6.634579e+00</td>\n",
       "    </tr>\n",
       "    <tr>\n",
       "      <th>3</th>\n",
       "      <td>Arab World</td>\n",
       "      <td>ARB</td>\n",
       "      <td>Age dependency ratio, young (% of working-age ...</td>\n",
       "      <td>SP.POP.DPND.YG</td>\n",
       "      <td>1960</td>\n",
       "      <td>8.102333e+01</td>\n",
       "    </tr>\n",
       "    <tr>\n",
       "      <th>4</th>\n",
       "      <td>Arab World</td>\n",
       "      <td>ARB</td>\n",
       "      <td>Arms exports (SIPRI trend indicator values)</td>\n",
       "      <td>MS.MIL.XPRT.KD</td>\n",
       "      <td>1960</td>\n",
       "      <td>3.000000e+06</td>\n",
       "    </tr>\n",
       "  </tbody>\n",
       "</table>\n",
       "</div>"
      ],
      "text/plain": [
       "  CountryName CountryCode                                      IndicatorName  \\\n",
       "0  Arab World         ARB  Adolescent fertility rate (births per 1,000 wo...   \n",
       "1  Arab World         ARB  Age dependency ratio (% of working-age populat...   \n",
       "2  Arab World         ARB  Age dependency ratio, old (% of working-age po...   \n",
       "3  Arab World         ARB  Age dependency ratio, young (% of working-age ...   \n",
       "4  Arab World         ARB        Arms exports (SIPRI trend indicator values)   \n",
       "\n",
       "    IndicatorCode  Year         Value  \n",
       "0     SP.ADO.TFRT  1960  1.335609e+02  \n",
       "1     SP.POP.DPND  1960  8.779760e+01  \n",
       "2  SP.POP.DPND.OL  1960  6.634579e+00  \n",
       "3  SP.POP.DPND.YG  1960  8.102333e+01  \n",
       "4  MS.MIL.XPRT.KD  1960  3.000000e+06  "
      ]
     },
     "execution_count": 5,
     "metadata": {},
     "output_type": "execute_result"
    }
   ],
   "source": [
    "data.head()"
   ]
  },
  {
   "cell_type": "code",
   "execution_count": 6,
   "metadata": {
    "collapsed": false
   },
   "outputs": [
    {
     "data": {
      "text/html": [
       "<div>\n",
       "<table border=\"1\" class=\"dataframe\">\n",
       "  <thead>\n",
       "    <tr style=\"text-align: right;\">\n",
       "      <th></th>\n",
       "      <th>CountryName</th>\n",
       "      <th>CountryCode</th>\n",
       "      <th>IndicatorName</th>\n",
       "      <th>IndicatorCode</th>\n",
       "      <th>Year</th>\n",
       "      <th>Value</th>\n",
       "    </tr>\n",
       "  </thead>\n",
       "  <tbody>\n",
       "    <tr>\n",
       "      <th>5026275</th>\n",
       "      <td>Arab World</td>\n",
       "      <td>ARB</td>\n",
       "      <td>CO2 emissions (metric tons per capita)</td>\n",
       "      <td>EN.ATM.CO2E.PC</td>\n",
       "      <td>2011</td>\n",
       "      <td>4.724500</td>\n",
       "    </tr>\n",
       "    <tr>\n",
       "      <th>5026788</th>\n",
       "      <td>Caribbean small states</td>\n",
       "      <td>CSS</td>\n",
       "      <td>CO2 emissions (metric tons per capita)</td>\n",
       "      <td>EN.ATM.CO2E.PC</td>\n",
       "      <td>2011</td>\n",
       "      <td>9.692960</td>\n",
       "    </tr>\n",
       "    <tr>\n",
       "      <th>5027295</th>\n",
       "      <td>Central Europe and the Baltics</td>\n",
       "      <td>CEB</td>\n",
       "      <td>CO2 emissions (metric tons per capita)</td>\n",
       "      <td>EN.ATM.CO2E.PC</td>\n",
       "      <td>2011</td>\n",
       "      <td>6.911131</td>\n",
       "    </tr>\n",
       "    <tr>\n",
       "      <th>5027870</th>\n",
       "      <td>East Asia &amp; Pacific (all income levels)</td>\n",
       "      <td>EAS</td>\n",
       "      <td>CO2 emissions (metric tons per capita)</td>\n",
       "      <td>EN.ATM.CO2E.PC</td>\n",
       "      <td>2011</td>\n",
       "      <td>5.859548</td>\n",
       "    </tr>\n",
       "    <tr>\n",
       "      <th>5028456</th>\n",
       "      <td>East Asia &amp; Pacific (developing only)</td>\n",
       "      <td>EAP</td>\n",
       "      <td>CO2 emissions (metric tons per capita)</td>\n",
       "      <td>EN.ATM.CO2E.PC</td>\n",
       "      <td>2011</td>\n",
       "      <td>5.302499</td>\n",
       "    </tr>\n",
       "  </tbody>\n",
       "</table>\n",
       "</div>"
      ],
      "text/plain": [
       "                                     CountryName CountryCode  \\\n",
       "5026275                               Arab World         ARB   \n",
       "5026788                   Caribbean small states         CSS   \n",
       "5027295           Central Europe and the Baltics         CEB   \n",
       "5027870  East Asia & Pacific (all income levels)         EAS   \n",
       "5028456    East Asia & Pacific (developing only)         EAP   \n",
       "\n",
       "                                  IndicatorName   IndicatorCode  Year  \\\n",
       "5026275  CO2 emissions (metric tons per capita)  EN.ATM.CO2E.PC  2011   \n",
       "5026788  CO2 emissions (metric tons per capita)  EN.ATM.CO2E.PC  2011   \n",
       "5027295  CO2 emissions (metric tons per capita)  EN.ATM.CO2E.PC  2011   \n",
       "5027870  CO2 emissions (metric tons per capita)  EN.ATM.CO2E.PC  2011   \n",
       "5028456  CO2 emissions (metric tons per capita)  EN.ATM.CO2E.PC  2011   \n",
       "\n",
       "            Value  \n",
       "5026275  4.724500  \n",
       "5026788  9.692960  \n",
       "5027295  6.911131  \n",
       "5027870  5.859548  \n",
       "5028456  5.302499  "
      ]
     },
     "execution_count": 6,
     "metadata": {},
     "output_type": "execute_result"
    }
   ],
   "source": [
    "# select CO2 emission for all countries in 2011\n",
    "hist_indicator = 'CO2 emissions \\(metric'\n",
    "hist_year = 2011\n",
    "mask1 = data[\"IndicatorName\"].str.contains(hist_indicator)\n",
    "mask2 = data[\"Year\"].isin([hist_year])\n",
    "\n",
    "stage = data[mask1 & mask2]\n",
    "stage.head()"
   ]
  },
  {
   "cell_type": "markdown",
   "metadata": {},
   "source": [
    "### Setup our data for plotting \n",
    "Create a data frame with just the country codes and the values we want plotted"
   ]
  },
  {
   "cell_type": "code",
   "execution_count": 12,
   "metadata": {
    "collapsed": false
   },
   "outputs": [
    {
     "data": {
      "text/html": [
       "<div>\n",
       "<table border=\"1\" class=\"dataframe\">\n",
       "  <thead>\n",
       "    <tr style=\"text-align: right;\">\n",
       "      <th></th>\n",
       "      <th>CountryCode</th>\n",
       "      <th>Value</th>\n",
       "    </tr>\n",
       "  </thead>\n",
       "  <tbody>\n",
       "    <tr>\n",
       "      <th>5026275</th>\n",
       "      <td>ARB</td>\n",
       "      <td>4.724500</td>\n",
       "    </tr>\n",
       "    <tr>\n",
       "      <th>5026788</th>\n",
       "      <td>CSS</td>\n",
       "      <td>9.692960</td>\n",
       "    </tr>\n",
       "    <tr>\n",
       "      <th>5027295</th>\n",
       "      <td>CEB</td>\n",
       "      <td>6.911131</td>\n",
       "    </tr>\n",
       "    <tr>\n",
       "      <th>5027870</th>\n",
       "      <td>EAS</td>\n",
       "      <td>5.859548</td>\n",
       "    </tr>\n",
       "    <tr>\n",
       "      <th>5028456</th>\n",
       "      <td>EAP</td>\n",
       "      <td>5.302499</td>\n",
       "    </tr>\n",
       "  </tbody>\n",
       "</table>\n",
       "</div>"
      ],
      "text/plain": [
       "        CountryCode     Value\n",
       "5026275         ARB  4.724500\n",
       "5026788         CSS  9.692960\n",
       "5027295         CEB  6.911131\n",
       "5027870         EAS  5.859548\n",
       "5028456         EAP  5.302499"
      ]
     },
     "execution_count": 12,
     "metadata": {},
     "output_type": "execute_result"
    }
   ],
   "source": [
    "plot_data = stage[[\"CountryCode\",\"Value\"]]\n",
    "plot_data.head()"
   ]
  },
  {
   "cell_type": "code",
   "execution_count": 15,
   "metadata": {
    "collapsed": false
   },
   "outputs": [
    {
     "data": {
      "text/plain": [
       "CountryName                                  Arab World\n",
       "CountryCode                                         ARB\n",
       "IndicatorName    CO2 emissions (metric tons per capita)\n",
       "IndicatorCode                            EN.ATM.CO2E.PC\n",
       "Year                                               2011\n",
       "Value                                            4.7245\n",
       "Name: 5026275, dtype: object"
      ]
     },
     "execution_count": 15,
     "metadata": {},
     "output_type": "execute_result"
    }
   ],
   "source": [
    "hist_indicator = stage.iloc[0]\n",
    "hist_indicator"
   ]
  },
  {
   "cell_type": "markdown",
   "metadata": {},
   "source": [
    "## Okay so let's visualize CO2 emissions per capita using Folium\n",
    "-----------------------------\n",
    "    Folium provides interactive maps with the ability to create sophisticated for data visualization\n",
    "    "
   ]
  },
  {
   "cell_type": "code",
   "execution_count": 20,
   "metadata": {
    "collapsed": true
   },
   "outputs": [],
   "source": [
    "# Setup a folium map at a high-level zoom @Alok - what is the 100,0, doesn't seem like lat long\n",
    "map = folium.Map(location=[100, 0], zoom_start=1.5)"
   ]
  },
  {
   "cell_type": "code",
   "execution_count": 23,
   "metadata": {
    "collapsed": false
   },
   "outputs": [
    {
     "ename": "TypeError",
     "evalue": "choropleth() got an unexpected keyword argument 'geo_path'",
     "output_type": "error",
     "traceback": [
      "\u001b[0;31m---------------------------------------------------------------------------\u001b[0m",
      "\u001b[0;31mTypeError\u001b[0m                                 Traceback (most recent call last)",
      "\u001b[0;32m<ipython-input-23-2f5999d8eb27>\u001b[0m in \u001b[0;36m<module>\u001b[0;34m()\u001b[0m\n\u001b[1;32m      4\u001b[0m              \u001b[0mkey_on\u001b[0m\u001b[1;33m=\u001b[0m\u001b[1;34m'feature.id'\u001b[0m\u001b[1;33m,\u001b[0m\u001b[1;33m\u001b[0m\u001b[0m\n\u001b[1;32m      5\u001b[0m              \u001b[0mfill_color\u001b[0m\u001b[1;33m=\u001b[0m\u001b[1;34m'YlGnBu'\u001b[0m\u001b[1;33m,\u001b[0m \u001b[0mfill_opacity\u001b[0m\u001b[1;33m=\u001b[0m\u001b[1;36m0.7\u001b[0m\u001b[1;33m,\u001b[0m \u001b[0mline_opacity\u001b[0m\u001b[1;33m=\u001b[0m\u001b[1;36m0.2\u001b[0m\u001b[1;33m,\u001b[0m\u001b[1;33m\u001b[0m\u001b[0m\n\u001b[0;32m----> 6\u001b[0;31m              legend_name=hist_indicator)\n\u001b[0m",
      "\u001b[0;31mTypeError\u001b[0m: choropleth() got an unexpected keyword argument 'geo_path'"
     ]
    }
   ],
   "source": [
    "# choropleth maps bind Pandas Data Frames and json geometries.  This allows us to quickly visualize data combinations\n",
    "map.choropleth(geo_path=country_json_geo, data=plot_data,\n",
    "             columns=['CountryCode', 'Value'],\n",
    "             key_on='feature.id',\n",
    "             fill_color='YlGnBu', fill_opacity=0.7, line_opacity=0.2,\n",
    "             legend_name=hist_indicator)"
   ]
  },
  {
   "cell_type": "markdown",
   "metadata": {},
   "source": [
    "choropleth now takes a single <strong> geo_data</strong> <strong> </strong> instad of geo_path/geo_str leaving the parsing to GeoJSON\n"
   ]
  },
  {
   "cell_type": "code",
   "execution_count": 24,
   "metadata": {
    "collapsed": true
   },
   "outputs": [],
   "source": [
    "# choropleth maps bind Pandas Data Frames and json geometries.  This allows us to quickly visualize data combinations\n",
    "map.choropleth(geo_data=country_json_geo, data=plot_data,\n",
    "             columns=['CountryCode', 'Value'],\n",
    "             key_on='feature.id',\n",
    "             fill_color='YlGnBu', fill_opacity=0.7, line_opacity=0.2,\n",
    "             legend_name=hist_indicator)"
   ]
  },
  {
   "cell_type": "code",
   "execution_count": 25,
   "metadata": {
    "collapsed": true
   },
   "outputs": [],
   "source": [
    "#create Folium plot\n",
    "map.save('plot_data.html')"
   ]
  },
  {
   "cell_type": "code",
   "execution_count": 37,
   "metadata": {
    "collapsed": false
   },
   "outputs": [
    {
     "ename": "NameError",
     "evalue": "name 'IPython' is not defined",
     "output_type": "error",
     "traceback": [
      "\u001b[0;31m---------------------------------------------------------------------------\u001b[0m",
      "\u001b[0;31mNameError\u001b[0m                                 Traceback (most recent call last)",
      "\u001b[0;32m<ipython-input-37-4a8a15b5cddf>\u001b[0m in \u001b[0;36m<module>\u001b[0;34m()\u001b[0m\n\u001b[0;32m----> 1\u001b[0;31m \u001b[0mIPython\u001b[0m\u001b[1;33m.\u001b[0m\u001b[0mdisplay\u001b[0m\u001b[1;33m.\u001b[0m\u001b[0mdisplay_html\u001b[0m\u001b[1;33m(\u001b[0m\u001b[1;33m*\u001b[0m\u001b[0mobjs\u001b[0m\u001b[1;33m,\u001b[0m \u001b[1;33m**\u001b[0m\u001b[0mkwargs\u001b[0m\u001b[1;33m)\u001b[0m\u001b[1;33m\u001b[0m\u001b[0m\n\u001b[0m",
      "\u001b[0;31mNameError\u001b[0m: name 'IPython' is not defined"
     ]
    }
   ],
   "source": [
    "IPython.display.display_html(*objs, **kwargs)\n"
   ]
  },
  {
   "cell_type": "code",
   "execution_count": 42,
   "metadata": {
    "collapsed": false
   },
   "outputs": [
    {
     "ename": "AttributeError",
     "evalue": "'function' object has no attribute 'HTML'",
     "output_type": "error",
     "traceback": [
      "\u001b[0;31m---------------------------------------------------------------------------\u001b[0m",
      "\u001b[0;31mAttributeError\u001b[0m                            Traceback (most recent call last)",
      "\u001b[0;32m<ipython-input-42-4b9a86e9a406>\u001b[0m in \u001b[0;36m<module>\u001b[0;34m()\u001b[0m\n\u001b[1;32m      1\u001b[0m \u001b[1;32mfrom\u001b[0m \u001b[0mIPython\u001b[0m\u001b[1;33m.\u001b[0m\u001b[0mdisplay\u001b[0m \u001b[1;32mimport\u001b[0m \u001b[0mHTML\u001b[0m\u001b[1;33m,\u001b[0m\u001b[0mdisplay\u001b[0m\u001b[1;33m\u001b[0m\u001b[0m\n\u001b[1;32m      2\u001b[0m \u001b[1;31m# Import the Folium interactive html file\u001b[0m\u001b[1;33m\u001b[0m\u001b[1;33m\u001b[0m\u001b[0m\n\u001b[0;32m----> 3\u001b[0;31m \u001b[0mdisplay\u001b[0m\u001b[1;33m.\u001b[0m\u001b[0mHTML\u001b[0m\u001b[1;33m(\u001b[0m\u001b[0mdata\u001b[0m\u001b[1;33m=\u001b[0m\u001b[1;34m'plot_data.html'\u001b[0m\u001b[1;33m)\u001b[0m\u001b[1;33m\u001b[0m\u001b[0m\n\u001b[0m",
      "\u001b[0;31mAttributeError\u001b[0m: 'function' object has no attribute 'HTML'"
     ]
    }
   ],
   "source": [
    "from IPython.display import HTML,display\n",
    "# Import the Folium interactive html file\n",
    "display.HTML(data='plot_data.html')"
   ]
  },
  {
   "cell_type": "code",
   "execution_count": null,
   "metadata": {
    "collapsed": true
   },
   "outputs": [],
   "source": []
  }
 ],
 "metadata": {
  "kernelspec": {
   "display_name": "Python 3",
   "language": "python",
   "name": "python3"
  },
  "language_info": {
   "codemirror_mode": {
    "name": "ipython",
    "version": 3
   },
   "file_extension": ".py",
   "mimetype": "text/x-python",
   "name": "python",
   "nbconvert_exporter": "python",
   "pygments_lexer": "ipython3",
   "version": "3.6.0"
  }
 },
 "nbformat": 4,
 "nbformat_minor": 2
}
