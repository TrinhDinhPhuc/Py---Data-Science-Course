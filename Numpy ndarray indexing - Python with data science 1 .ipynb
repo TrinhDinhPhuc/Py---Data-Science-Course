{
 "cells": [
  {
   "cell_type": "markdown",
   "metadata": {},
   "source": [
    "# NOTICED THAT IS COPIED IN NUMPY"
   ]
  },
  {
   "cell_type": "code",
   "execution_count": 1,
   "metadata": {
    "collapsed": true
   },
   "outputs": [],
   "source": [
    "import numpy as np"
   ]
  },
  {
   "cell_type": "code",
   "execution_count": 2,
   "metadata": {
    "collapsed": true
   },
   "outputs": [],
   "source": [
    "#Rank 2 arrray of shape (3,4)\n",
    "an_array=np.array([[11,15,16,15],[21,13,16,10],[31,33,35,37]])"
   ]
  },
  {
   "cell_type": "code",
   "execution_count": 3,
   "metadata": {
    "collapsed": false
   },
   "outputs": [
    {
     "data": {
      "text/plain": [
       "array([[11, 15, 16, 15],\n",
       "       [21, 13, 16, 10],\n",
       "       [31, 33, 35, 37]])"
      ]
     },
     "execution_count": 3,
     "metadata": {},
     "output_type": "execute_result"
    }
   ],
   "source": [
    "an_array"
   ]
  },
  {
   "cell_type": "code",
   "execution_count": 9,
   "metadata": {
    "collapsed": false
   },
   "outputs": [
    {
     "name": "stdout",
     "output_type": "stream",
     "text": [
      "[[15 16 15]\n",
      " [13 16 10]]\n"
     ]
    }
   ],
   "source": [
    "a_slice= an_array[:2,1:4]\n",
    "print(a_slice)"
   ]
  },
  {
   "cell_type": "code",
   "execution_count": 10,
   "metadata": {
    "collapsed": false
   },
   "outputs": [
    {
     "name": "stdout",
     "output_type": "stream",
     "text": [
      "[[15 16]\n",
      " [13 16]\n",
      " [33 35]]\n"
     ]
    }
   ],
   "source": [
    "ba_phan_tu = an_array[:,1:3]\n",
    "print(ba_phan_tu)"
   ]
  },
  {
   "cell_type": "code",
   "execution_count": 11,
   "metadata": {
    "collapsed": false
   },
   "outputs": [
    {
     "name": "stdout",
     "output_type": "stream",
     "text": [
      "Before [[11 15 16 15]\n",
      " [21 13 16 10]\n",
      " [31 33 35 37]]\n",
      "After [[11 77 16 15]\n",
      " [21 13 16 10]\n",
      " [31 33 35 37]]\n"
     ]
    }
   ],
   "source": [
    "    print(\"Before\", an_array)\n",
    "    ba_phan_tu[0,0]=77\n",
    "    print(\"After\",an_array)"
   ]
  },
  {
   "cell_type": "markdown",
   "metadata": {},
   "source": [
    "\n",
    "=) It means that when you modify a slice, you actualy modify the underlying array!!!!!!!\n"
   ]
  },
  {
   "cell_type": "code",
   "execution_count": 12,
   "metadata": {
    "collapsed": false
   },
   "outputs": [
    {
     "name": "stdout",
     "output_type": "stream",
     "text": [
      "[[15 16 15]\n",
      " [13 16 10]]\n"
     ]
    }
   ],
   "source": [
    "#Copy ko bị đổi, ko liên quan đến mảng gốc\n",
    "#Rank 2 arrray of shape (3,4)\n",
    "an_array1=np.array([[11,15,16,15],[21,13,16,10],[31,33,35,37]])\n",
    "a_slice1=np.array(an_array1[:2,1:4])\n",
    "print(a_slice1)"
   ]
  },
  {
   "cell_type": "code",
   "execution_count": 13,
   "metadata": {
    "collapsed": false
   },
   "outputs": [
    {
     "name": "stdout",
     "output_type": "stream",
     "text": [
      "Before [[11 15 16 15]\n",
      " [21 13 16 10]\n",
      " [31 33 35 37]]\n",
      "After [[11 15 16 15]\n",
      " [21 13 16 10]\n",
      " [31 33 35 37]]\n"
     ]
    }
   ],
   "source": [
    "print(\"Before\", an_array1)\n",
    "a_slice1[0,0]=77\n",
    "print(\"After\",an_array1)"
   ]
  },
  {
   "cell_type": "markdown",
   "metadata": {},
   "source": [
    "Here are what we copied about!"
   ]
  },
  {
   "cell_type": "markdown",
   "metadata": {},
   "source": [
    "# USE BOTH INTERGER INDEXING AND SLICE INDEXING"
   ]
  },
  {
   "cell_type": "code",
   "execution_count": 14,
   "metadata": {
    "collapsed": false
   },
   "outputs": [
    {
     "name": "stdout",
     "output_type": "stream",
     "text": [
      "[[11 15 16 15]\n",
      " [21 13 16 10]\n",
      " [31 33 35 37]]\n"
     ]
    }
   ],
   "source": [
    "#Rank 2 arrray of shape (3,4)\n",
    "an_array2=np.array([[11,15,16,15],[21,13,16,10],[31,33,35,37]])\n",
    "print(an_array2)"
   ]
  },
  {
   "cell_type": "code",
   "execution_count": 15,
   "metadata": {
    "collapsed": true
   },
   "outputs": [],
   "source": [
    "#using both integer indexing and slicing generates an array of lower rank "
   ]
  },
  {
   "cell_type": "code",
   "execution_count": 19,
   "metadata": {
    "collapsed": false
   },
   "outputs": [
    {
     "name": "stdout",
     "output_type": "stream",
     "text": [
      "[21 13 16 10] (4,)\n"
     ]
    }
   ],
   "source": [
    "row_rank1= an_array[1,:]\n",
    "print(row_rank1,row_rank1.shape)"
   ]
  },
  {
   "cell_type": "markdown",
   "metadata": {},
   "source": [
    "Notice only a single []"
   ]
  },
  {
   "cell_type": "code",
   "execution_count": 62,
   "metadata": {
    "collapsed": false
   },
   "outputs": [
    {
     "name": "stdout",
     "output_type": "stream",
     "text": [
      "[[21 13 16 10]] (1, 4)\n"
     ]
    }
   ],
   "source": [
    "#Sciling alone: generates an array of the same rank as the an_array\n",
    "row_rank2=an_array[1:2,:]\n",
    "print(row_rank2,row_rank2.shape)"
   ]
  },
  {
   "cell_type": "markdown",
   "metadata": {},
   "source": [
    "Notice the [ [ ] ]"
   ]
  },
  {
   "cell_type": "code",
   "execution_count": 63,
   "metadata": {
    "collapsed": true
   },
   "outputs": [],
   "source": [
    "a = np.arange(15).reshape(3, 5)"
   ]
  },
  {
   "cell_type": "code",
   "execution_count": 64,
   "metadata": {
    "collapsed": false
   },
   "outputs": [
    {
     "data": {
      "text/plain": [
       "array([[ 0,  1,  2,  3,  4],\n",
       "       [ 5,  6,  7,  8,  9],\n",
       "       [10, 11, 12, 13, 14]])"
      ]
     },
     "execution_count": 64,
     "metadata": {},
     "output_type": "execute_result"
    }
   ],
   "source": [
    "a"
   ]
  },
  {
   "cell_type": "code",
   "execution_count": 66,
   "metadata": {
    "collapsed": false
   },
   "outputs": [],
   "source": [
    "#Here we'll do the same thing for the columns of the array."
   ]
  },
  {
   "cell_type": "code",
   "execution_count": 69,
   "metadata": {
    "collapsed": false
   },
   "outputs": [
    {
     "name": "stdout",
     "output_type": "stream",
     "text": [
      "[15 13 33] (3,) \n",
      "\n",
      " [[15]\n",
      " [13]\n",
      " [33]] (3, 1)\n"
     ]
    }
   ],
   "source": [
    "col_rank1 = an_array2[:,1]\n",
    "col_rank2 = an_array2[:,1:2]\n",
    "print(col_rank1,col_rank1.shape,\"\\n\\n\", col_rank2,col_rank2.shape)"
   ]
  },
  {
   "cell_type": "code",
   "execution_count": 73,
   "metadata": {
    "collapsed": false
   },
   "outputs": [
    {
     "name": "stdout",
     "output_type": "stream",
     "text": [
      "[[ 1  2  3  4  5]\n",
      " [ 8  9 10 11 12]\n",
      " [15 16 17 18 19]\n",
      " [22 23 24 25 26]\n",
      " [29 30 31 32 33]\n",
      " [36 37 38 39 40]\n",
      " [43 44 45 46 47]] (7, 5)\n"
     ]
    }
   ],
   "source": [
    "a = np.arange(49).reshape(7, 7)\n",
    "col_rank3 = a[0:7,1:6]\n",
    "print(col_rank3,col_rank3.shape)"
   ]
  },
  {
   "cell_type": "markdown",
   "metadata": {},
   "source": [
    "Vậy chứng tỏ là chỉ có Rank 2 là max :) "
   ]
  },
  {
   "cell_type": "markdown",
   "metadata": {},
   "source": [
    "# Array Indexing for changing elements"
   ]
  },
  {
   "cell_type": "markdown",
   "metadata": {},
   "source": [
    "sometimes it's useful to use array of indexes to access or change elements"
   ]
  },
  {
   "cell_type": "code",
   "execution_count": 79,
   "metadata": {
    "collapsed": false
   },
   "outputs": [
    {
     "name": "stdout",
     "output_type": "stream",
     "text": [
      "Original array: \n",
      " [[11 12 13]\n",
      " [22 23 24]\n",
      " [33 34 35]\n",
      " [44 45 46]]\n"
     ]
    }
   ],
   "source": [
    "#create a new array\n",
    "an_array = np.array([[11,12,13],[22,23,24],[33,34,35],[44,45,46]])\n",
    "print(\"Original array: \\n\",an_array)"
   ]
  },
  {
   "cell_type": "code",
   "execution_count": 81,
   "metadata": {
    "collapsed": false
   },
   "outputs": [
    {
     "name": "stdout",
     "output_type": "stream",
     "text": [
      "Col indicies picked:  [0 1 2 0] \n",
      "Row indicies picked:  [0 1 2 3]\n"
     ]
    }
   ],
   "source": [
    "#create an array of indicies\n",
    "col_indicies=np.array([0,1,2,0])\n",
    "row_indicies=np.arange(4)\n",
    "print(\"Col indicies picked: \",col_indicies,\"\\nRow indicies picked: \",row_indicies)"
   ]
  },
  {
   "cell_type": "code",
   "execution_count": 82,
   "metadata": {
    "collapsed": false
   },
   "outputs": [
    {
     "name": "stdout",
     "output_type": "stream",
     "text": [
      "0    0\n",
      "1    1\n",
      "2    2\n",
      "3    0\n"
     ]
    }
   ],
   "source": [
    "for row,col in zip(row_indicies,col_indicies):\n",
    "    print (row,\"  \",col)"
   ]
  },
  {
   "cell_type": "markdown",
   "metadata": {},
   "source": [
    "OKAY now let's inspect the contents at those pairs of indices and we'll get back"
   ]
  },
  {
   "cell_type": "code",
   "execution_count": 83,
   "metadata": {
    "collapsed": false
   },
   "outputs": [
    {
     "name": "stdout",
     "output_type": "stream",
     "text": [
      "Values in the array at these indicies:  [11 23 35 44]\n"
     ]
    }
   ],
   "source": [
    "#select one element from each row\n",
    "print (\"Values in the array at these indicies: \",an_array[row_indicies,col_indicies])"
   ]
  },
  {
   "cell_type": "markdown",
   "metadata": {},
   "source": [
    "Col indicies picked:  [0 1 2 0] \n",
    "Row indicies picked:  [0 1 2 3]\n",
    "    it means 0-0, 1-1, 2-2, 0-3"
   ]
  },
  {
   "cell_type": "code",
   "execution_count": 84,
   "metadata": {
    "collapsed": true
   },
   "outputs": [],
   "source": [
    "#change one element from each row using the indicies selected\n",
    "an_array[row_indicies,col_indicies]+=100000"
   ]
  },
  {
   "cell_type": "code",
   "execution_count": 85,
   "metadata": {
    "collapsed": false
   },
   "outputs": [
    {
     "name": "stdout",
     "output_type": "stream",
     "text": [
      "Change array: \n",
      " [[100011     12     13]\n",
      " [    22 100023     24]\n",
      " [    33     34 100035]\n",
      " [100044     45     46]]\n"
     ]
    }
   ],
   "source": [
    "print(\"Change array: \\n\",an_array)"
   ]
  },
  {
   "cell_type": "code",
   "execution_count": null,
   "metadata": {
    "collapsed": true
   },
   "outputs": [],
   "source": []
  }
 ],
 "metadata": {
  "kernelspec": {
   "display_name": "Python 3",
   "language": "python",
   "name": "python3"
  },
  "language_info": {
   "codemirror_mode": {
    "name": "ipython",
    "version": 3
   },
   "file_extension": ".py",
   "mimetype": "text/x-python",
   "name": "python",
   "nbconvert_exporter": "python",
   "pygments_lexer": "ipython3",
   "version": "3.6.0"
  }
 },
 "nbformat": 4,
 "nbformat_minor": 2
}
