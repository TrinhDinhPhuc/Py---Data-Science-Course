{
 "cells": [
  {
   "cell_type": "markdown",
   "metadata": {},
   "source": [
    "# Data Scleaning "
   ]
  },
  {
   "cell_type": "code",
   "execution_count": 3,
   "metadata": {
    "collapsed": false
   },
   "outputs": [
    {
     "name": "stdout",
     "output_type": "stream",
     "text": [
      " Volume in drive C has no label.\n",
      " Volume Serial Number is 372F-3690\n",
      "\n",
      " Directory of C:\\Users\\USER\\Documents\\Python for data science\\Week-4-Pandas\n",
      "\n",
      "10/01/2017  02:58 PM             1,593  Data Cleaning.ipynb\n",
      "10/01/2017  02:58 PM    <DIR>          .\n",
      "10/01/2017  02:58 PM    <DIR>          ..\n",
      "05/29/2017  11:04 AM             6,148 .DS_Store\n",
      "10/01/2017  02:39 PM    <DIR>          .ipynb_checkpoints\n",
      "05/26/2017  02:38 PM                 0 Icon_\n",
      "05/29/2017  11:04 AM            33,379 Introduction to Pandas.ipynb\n",
      "05/29/2017  11:04 AM    <DIR>          movielens\n",
      "09/28/2017  03:58 PM               880 Pandas - Descriptive Statistics .ipynb\n",
      "09/25/2017  10:34 AM            54,086 Pandas 1 - Python for data science.ipynb\n",
      "               6 File(s)         96,086 bytes\n",
      "               4 Dir(s)  19,845,533,696 bytes free\n"
     ]
    }
   ],
   "source": [
    "ls"
   ]
  },
  {
   "cell_type": "code",
   "execution_count": 6,
   "metadata": {
    "collapsed": false
   },
   "outputs": [
    {
     "name": "stdout",
     "output_type": "stream",
     "text": [
      " Volume in drive C has no label.\n",
      " Volume Serial Number is 372F-3690\n",
      "\n",
      " Directory of C:\\Users\\USER\\Documents\\Python for data science\\Week-4-Pandas\n",
      "\n",
      "10/01/2017  03:04 PM             2,905  Data Cleaning.ipynb\n",
      "10/01/2017  03:04 PM    <DIR>          .\n",
      "10/01/2017  03:04 PM    <DIR>          ..\n",
      "05/29/2017  11:04 AM             6,148 .DS_Store\n",
      "10/01/2017  02:39 PM    <DIR>          .ipynb_checkpoints\n",
      "05/26/2017  02:38 PM                 0 Icon_\n",
      "05/29/2017  11:04 AM            33,379 Introduction to Pandas.ipynb\n",
      "10/17/2016  10:12 AM    <DIR>          ml-20m\n",
      "05/29/2017  11:04 AM    <DIR>          movielens\n",
      "09/28/2017  03:58 PM               880 Pandas - Descriptive Statistics .ipynb\n",
      "09/25/2017  10:34 AM            54,086 Pandas 1 - Python for data science.ipynb\n",
      "               6 File(s)         97,398 bytes\n",
      "               5 Dir(s)  19,846,291,456 bytes free\n"
     ]
    }
   ],
   "source": [
    "ls "
   ]
  },
  {
   "cell_type": "code",
   "execution_count": 7,
   "metadata": {
    "collapsed": true
   },
   "outputs": [],
   "source": [
    "import pandas as pd"
   ]
  },
  {
   "cell_type": "code",
   "execution_count": 9,
   "metadata": {
    "collapsed": false
   },
   "outputs": [
    {
     "name": "stdout",
     "output_type": "stream",
     "text": [
      " Volume in drive C has no label.\n",
      " Volume Serial Number is 372F-3690\n",
      "\n",
      " Directory of C:\\Users\\USER\\Documents\\Python for data science\\Week-4-Pandas\\ml-20m\n",
      "\n",
      "10/17/2016  10:12 AM    <DIR>          .\n",
      "10/17/2016  10:12 AM    <DIR>          ..\n",
      "10/17/2016  09:41 AM       323,544,381 genome-scores.csv\n",
      "10/17/2016  09:41 AM            18,103 genome-tags.csv\n",
      "10/17/2016  09:50 AM           570,090 links.csv\n",
      "03/31/2015  04:17 PM         1,397,542 movies.csv\n",
      "03/31/2015  04:14 PM       533,444,411 ratings.csv\n",
      "10/17/2016  10:21 AM            10,261 README.txt\n",
      "03/31/2015  04:01 PM        16,603,996 tags.csv\n",
      "               7 File(s)    875,588,784 bytes\n",
      "               2 Dir(s)  19,845,017,600 bytes free\n"
     ]
    }
   ],
   "source": [
    "ls ml-20m"
   ]
  },
  {
   "cell_type": "code",
   "execution_count": 11,
   "metadata": {
    "collapsed": false
   },
   "outputs": [],
   "source": [
    "ratings = pd.read_csv(\"ml-20m/ratings.csv\",sep=\",\")"
   ]
  },
  {
   "cell_type": "code",
   "execution_count": 12,
   "metadata": {
    "collapsed": true
   },
   "outputs": [],
   "source": [
    "movies = pd.read_csv(\"ml-20m/movies.csv\",sep=\",\")"
   ]
  },
  {
   "cell_type": "code",
   "execution_count": 14,
   "metadata": {
    "collapsed": false
   },
   "outputs": [
    {
     "data": {
      "text/html": [
       "<div>\n",
       "<table border=\"1\" class=\"dataframe\">\n",
       "  <thead>\n",
       "    <tr style=\"text-align: right;\">\n",
       "      <th></th>\n",
       "      <th>userId</th>\n",
       "      <th>movieId</th>\n",
       "      <th>rating</th>\n",
       "      <th>timestamp</th>\n",
       "    </tr>\n",
       "  </thead>\n",
       "  <tbody>\n",
       "    <tr>\n",
       "      <th>0</th>\n",
       "      <td>1</td>\n",
       "      <td>2</td>\n",
       "      <td>3.5</td>\n",
       "      <td>1112486027</td>\n",
       "    </tr>\n",
       "    <tr>\n",
       "      <th>1</th>\n",
       "      <td>1</td>\n",
       "      <td>29</td>\n",
       "      <td>3.5</td>\n",
       "      <td>1112484676</td>\n",
       "    </tr>\n",
       "    <tr>\n",
       "      <th>2</th>\n",
       "      <td>1</td>\n",
       "      <td>32</td>\n",
       "      <td>3.5</td>\n",
       "      <td>1112484819</td>\n",
       "    </tr>\n",
       "    <tr>\n",
       "      <th>3</th>\n",
       "      <td>1</td>\n",
       "      <td>47</td>\n",
       "      <td>3.5</td>\n",
       "      <td>1112484727</td>\n",
       "    </tr>\n",
       "    <tr>\n",
       "      <th>4</th>\n",
       "      <td>1</td>\n",
       "      <td>50</td>\n",
       "      <td>3.5</td>\n",
       "      <td>1112484580</td>\n",
       "    </tr>\n",
       "  </tbody>\n",
       "</table>\n",
       "</div>"
      ],
      "text/plain": [
       "   userId  movieId  rating   timestamp\n",
       "0       1        2     3.5  1112486027\n",
       "1       1       29     3.5  1112484676\n",
       "2       1       32     3.5  1112484819\n",
       "3       1       47     3.5  1112484727\n",
       "4       1       50     3.5  1112484580"
      ]
     },
     "execution_count": 14,
     "metadata": {},
     "output_type": "execute_result"
    }
   ],
   "source": [
    "ratings.head()"
   ]
  },
  {
   "cell_type": "code",
   "execution_count": 15,
   "metadata": {
    "collapsed": false
   },
   "outputs": [
    {
     "data": {
      "text/html": [
       "<div>\n",
       "<table border=\"1\" class=\"dataframe\">\n",
       "  <thead>\n",
       "    <tr style=\"text-align: right;\">\n",
       "      <th></th>\n",
       "      <th>movieId</th>\n",
       "      <th>title</th>\n",
       "      <th>genres</th>\n",
       "    </tr>\n",
       "  </thead>\n",
       "  <tbody>\n",
       "    <tr>\n",
       "      <th>0</th>\n",
       "      <td>1</td>\n",
       "      <td>Toy Story (1995)</td>\n",
       "      <td>Adventure|Animation|Children|Comedy|Fantasy</td>\n",
       "    </tr>\n",
       "    <tr>\n",
       "      <th>1</th>\n",
       "      <td>2</td>\n",
       "      <td>Jumanji (1995)</td>\n",
       "      <td>Adventure|Children|Fantasy</td>\n",
       "    </tr>\n",
       "    <tr>\n",
       "      <th>2</th>\n",
       "      <td>3</td>\n",
       "      <td>Grumpier Old Men (1995)</td>\n",
       "      <td>Comedy|Romance</td>\n",
       "    </tr>\n",
       "    <tr>\n",
       "      <th>3</th>\n",
       "      <td>4</td>\n",
       "      <td>Waiting to Exhale (1995)</td>\n",
       "      <td>Comedy|Drama|Romance</td>\n",
       "    </tr>\n",
       "    <tr>\n",
       "      <th>4</th>\n",
       "      <td>5</td>\n",
       "      <td>Father of the Bride Part II (1995)</td>\n",
       "      <td>Comedy</td>\n",
       "    </tr>\n",
       "  </tbody>\n",
       "</table>\n",
       "</div>"
      ],
      "text/plain": [
       "   movieId                               title  \\\n",
       "0        1                    Toy Story (1995)   \n",
       "1        2                      Jumanji (1995)   \n",
       "2        3             Grumpier Old Men (1995)   \n",
       "3        4            Waiting to Exhale (1995)   \n",
       "4        5  Father of the Bride Part II (1995)   \n",
       "\n",
       "                                        genres  \n",
       "0  Adventure|Animation|Children|Comedy|Fantasy  \n",
       "1                   Adventure|Children|Fantasy  \n",
       "2                               Comedy|Romance  \n",
       "3                         Comedy|Drama|Romance  \n",
       "4                                       Comedy  "
      ]
     },
     "execution_count": 15,
     "metadata": {},
     "output_type": "execute_result"
    }
   ],
   "source": [
    "movies.head()"
   ]
  },
  {
   "cell_type": "code",
   "execution_count": 17,
   "metadata": {
    "collapsed": false
   },
   "outputs": [
    {
     "data": {
      "text/plain": [
       "(20000263, 4)"
      ]
     },
     "execution_count": 17,
     "metadata": {},
     "output_type": "execute_result"
    }
   ],
   "source": [
    "ratings.shape"
   ]
  },
  {
   "cell_type": "code",
   "execution_count": 19,
   "metadata": {
    "collapsed": true
   },
   "outputs": [],
   "source": [
    "# is any row NULL?"
   ]
  },
  {
   "cell_type": "code",
   "execution_count": 25,
   "metadata": {
    "collapsed": false
   },
   "outputs": [
    {
     "data": {
      "text/plain": [
       "<bound method DataFrame.any of          userId movieId rating timestamp\n",
       "0         False   False  False     False\n",
       "1         False   False  False     False\n",
       "2         False   False  False     False\n",
       "3         False   False  False     False\n",
       "4         False   False  False     False\n",
       "5         False   False  False     False\n",
       "6         False   False  False     False\n",
       "7         False   False  False     False\n",
       "8         False   False  False     False\n",
       "9         False   False  False     False\n",
       "10        False   False  False     False\n",
       "11        False   False  False     False\n",
       "12        False   False  False     False\n",
       "13        False   False  False     False\n",
       "14        False   False  False     False\n",
       "15        False   False  False     False\n",
       "16        False   False  False     False\n",
       "17        False   False  False     False\n",
       "18        False   False  False     False\n",
       "19        False   False  False     False\n",
       "20        False   False  False     False\n",
       "21        False   False  False     False\n",
       "22        False   False  False     False\n",
       "23        False   False  False     False\n",
       "24        False   False  False     False\n",
       "25        False   False  False     False\n",
       "26        False   False  False     False\n",
       "27        False   False  False     False\n",
       "28        False   False  False     False\n",
       "29        False   False  False     False\n",
       "...         ...     ...    ...       ...\n",
       "20000233  False   False  False     False\n",
       "20000234  False   False  False     False\n",
       "20000235  False   False  False     False\n",
       "20000236  False   False  False     False\n",
       "20000237  False   False  False     False\n",
       "20000238  False   False  False     False\n",
       "20000239  False   False  False     False\n",
       "20000240  False   False  False     False\n",
       "20000241  False   False  False     False\n",
       "20000242  False   False  False     False\n",
       "20000243  False   False  False     False\n",
       "20000244  False   False  False     False\n",
       "20000245  False   False  False     False\n",
       "20000246  False   False  False     False\n",
       "20000247  False   False  False     False\n",
       "20000248  False   False  False     False\n",
       "20000249  False   False  False     False\n",
       "20000250  False   False  False     False\n",
       "20000251  False   False  False     False\n",
       "20000252  False   False  False     False\n",
       "20000253  False   False  False     False\n",
       "20000254  False   False  False     False\n",
       "20000255  False   False  False     False\n",
       "20000256  False   False  False     False\n",
       "20000257  False   False  False     False\n",
       "20000258  False   False  False     False\n",
       "20000259  False   False  False     False\n",
       "20000260  False   False  False     False\n",
       "20000261  False   False  False     False\n",
       "20000262  False   False  False     False\n",
       "\n",
       "[20000263 rows x 4 columns]>"
      ]
     },
     "execution_count": 25,
     "metadata": {},
     "output_type": "execute_result"
    }
   ],
   "source": [
    "ratings.isnull().any # it means that NO NULL values"
   ]
  },
  {
   "cell_type": "code",
   "execution_count": 27,
   "metadata": {
    "collapsed": false
   },
   "outputs": [
    {
     "data": {
      "text/plain": [
       "(27278, 3)"
      ]
     },
     "execution_count": 27,
     "metadata": {},
     "output_type": "execute_result"
    }
   ],
   "source": [
    "movies.shape"
   ]
  },
  {
   "cell_type": "code",
   "execution_count": 29,
   "metadata": {
    "collapsed": false
   },
   "outputs": [
    {
     "data": {
      "text/plain": [
       "movieId    False\n",
       "title      False\n",
       "genres     False\n",
       "dtype: bool"
      ]
     },
     "execution_count": 29,
     "metadata": {},
     "output_type": "execute_result"
    }
   ],
   "source": [
    "movies.isnull().any()"
   ]
  },
  {
   "cell_type": "code",
   "execution_count": 30,
   "metadata": {
    "collapsed": true
   },
   "outputs": [],
   "source": [
    "# That's nice. There is also no NULL"
   ]
  },
  {
   "cell_type": "code",
   "execution_count": 31,
   "metadata": {
    "collapsed": true
   },
   "outputs": [],
   "source": [
    "tags= pd.read_csv(\"ml-20m/tags.csv\")"
   ]
  },
  {
   "cell_type": "code",
   "execution_count": 32,
   "metadata": {
    "collapsed": false
   },
   "outputs": [
    {
     "data": {
      "text/plain": [
       "(465564, 4)"
      ]
     },
     "execution_count": 32,
     "metadata": {},
     "output_type": "execute_result"
    }
   ],
   "source": [
    "tags.shape"
   ]
  },
  {
   "cell_type": "code",
   "execution_count": 33,
   "metadata": {
    "collapsed": false
   },
   "outputs": [
    {
     "data": {
      "text/plain": [
       "userId       False\n",
       "movieId      False\n",
       "tag           True\n",
       "timestamp    False\n",
       "dtype: bool"
      ]
     },
     "execution_count": 33,
     "metadata": {},
     "output_type": "execute_result"
    }
   ],
   "source": [
    "tags.isnull().any()"
   ]
  },
  {
   "cell_type": "code",
   "execution_count": 34,
   "metadata": {
    "collapsed": true
   },
   "outputs": [],
   "source": [
    "# =) Tags have NULL value"
   ]
  },
  {
   "cell_type": "code",
   "execution_count": 40,
   "metadata": {
    "collapsed": true
   },
   "outputs": [],
   "source": [
    "tags=tags.dropna() # sau khi phat hien missing data, ta drop it"
   ]
  },
  {
   "cell_type": "code",
   "execution_count": 41,
   "metadata": {
    "collapsed": false
   },
   "outputs": [
    {
     "data": {
      "text/plain": [
       "userId       False\n",
       "movieId      False\n",
       "tag          False\n",
       "timestamp    False\n",
       "dtype: bool"
      ]
     },
     "execution_count": 41,
     "metadata": {},
     "output_type": "execute_result"
    }
   ],
   "source": [
    "tags.isnull().any()"
   ]
  },
  {
   "cell_type": "code",
   "execution_count": 42,
   "metadata": {
    "collapsed": false
   },
   "outputs": [
    {
     "data": {
      "text/plain": [
       "0                                               Mark Waters\n",
       "1                                                 dark hero\n",
       "2                                                 dark hero\n",
       "3                                             noir thriller\n",
       "4                                                 dark hero\n",
       "5                                                 bollywood\n",
       "6                                          screwball comedy\n",
       "7                                             noir thriller\n",
       "8                                                      mars\n",
       "9                                                  neo-noir\n",
       "10                                                    jesus\n",
       "11                                            noir thriller\n",
       "12                                                    jesus\n",
       "13                                                   dragon\n",
       "14                                        conspiracy theory\n",
       "15                                                     mars\n",
       "16                                            noir thriller\n",
       "17                                                    jesus\n",
       "18                                                    jesus\n",
       "19                                                bollywood\n",
       "20                                                 treasure\n",
       "21                                                dark hero\n",
       "22                                            noir thriller\n",
       "23                                                    jesus\n",
       "24                                                 stranded\n",
       "25                                        conspiracy theory\n",
       "26                       Oscar (Best Foreign Language Film)\n",
       "27                                              New Zealand\n",
       "28                                                  surreal\n",
       "29                                                  unusual\n",
       "                                ...                        \n",
       "465534                                             big hair\n",
       "465535                                        Mark Wahlberg\n",
       "465536                                                 pigs\n",
       "465537                                         prostitution\n",
       "465538    This movie should have been called \"How Cocain...\n",
       "465539                                            Christmas\n",
       "465540                                                funny\n",
       "465541                                       Judge Reinhold\n",
       "465542                                            Tim Allen\n",
       "465543                                            whiny kid\n",
       "465544                                      family friendly\n",
       "465545                                      halloween scene\n",
       "465546                                               quirky\n",
       "465547                                        topless scene\n",
       "465548                                            Christmas\n",
       "465549                                              classic\n",
       "465550                                                funny\n",
       "465551                                                scary\n",
       "465552                                            Peter Pan\n",
       "465553                                           soundtrack\n",
       "465554                                   visually appealing\n",
       "465555                                      family friendly\n",
       "465556                     Scary Movies To See on Halloween\n",
       "465557                                            Peter Pan\n",
       "465558                                   visually appealing\n",
       "465559                                              dragged\n",
       "465560                                        Jason Bateman\n",
       "465561                                               quirky\n",
       "465562                                                  sad\n",
       "465563                                        rise to power\n",
       "Name: tag, dtype: object"
      ]
     },
     "execution_count": 42,
     "metadata": {},
     "output_type": "execute_result"
    }
   ],
   "source": [
    "tags[\"tag\"]"
   ]
  },
  {
   "cell_type": "code",
   "execution_count": null,
   "metadata": {
    "collapsed": true
   },
   "outputs": [],
   "source": []
  }
 ],
 "metadata": {
  "kernelspec": {
   "display_name": "Python 3",
   "language": "python",
   "name": "python3"
  },
  "language_info": {
   "codemirror_mode": {
    "name": "ipython",
    "version": 3
   },
   "file_extension": ".py",
   "mimetype": "text/x-python",
   "name": "python",
   "nbconvert_exporter": "python",
   "pygments_lexer": "ipython3",
   "version": "3.6.0"
  }
 },
 "nbformat": 4,
 "nbformat_minor": 2
}
